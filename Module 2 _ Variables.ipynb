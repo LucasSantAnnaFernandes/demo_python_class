{
  "nbformat": 4,
  "nbformat_minor": 0,
  "metadata": {
    "colab": {
      "provenance": [],
      "authorship_tag": "ABX9TyOSgDVX5w8qZsIVzkvt196S",
      "include_colab_link": true
    },
    "kernelspec": {
      "name": "python3",
      "display_name": "Python 3"
    },
    "language_info": {
      "name": "python"
    }
  },
  "cells": [
    {
      "cell_type": "markdown",
      "metadata": {
        "id": "view-in-github",
        "colab_type": "text"
      },
      "source": [
        "<a href=\"https://colab.research.google.com/github/LucasSantAnnaFernandes/demo_python_class/blob/main/Module%202%20_%20Variables.ipynb\" target=\"_parent\"><img src=\"https://colab.research.google.com/assets/colab-badge.svg\" alt=\"Open In Colab\"/></a>"
      ]
    },
    {
      "cell_type": "code",
      "execution_count": 1,
      "metadata": {
        "id": "FY2VUfhY-Eht"
      },
      "outputs": [],
      "source": [
        "# Use input() and print() functions to get your information and display on the screen in the following format:"
      ]
    },
    {
      "cell_type": "code",
      "source": [
        "name = input(print('Enter your name: '))\n",
        "country = input(print('Enter your country: '))\n",
        "school = input(print('Enter your school: '))\n",
        "location = input(print('Enter the location of your school: '))\n",
        "\n",
        "print(f'My name is {name} from {country} studying at {school} in {location}. ')"
      ],
      "metadata": {
        "colab": {
          "base_uri": "https://localhost:8080/"
        },
        "id": "8glDAOHs-TDp",
        "outputId": "383ff310-fc79-4cd3-ebc8-1cd606ee0b38"
      },
      "execution_count": 4,
      "outputs": [
        {
          "output_type": "stream",
          "name": "stdout",
          "text": [
            "Enter your name: \n",
            "NoneLucas\n",
            "Enter your country: \n",
            "NoneBrasil\n",
            "Enter your school: \n",
            "NoneCCTB\n",
            "Enter the location of your school: \n",
            "NoneVancouver\n",
            "My name is Lucas from Brasil studying at CCTB in Vancouver \n"
          ]
        }
      ]
    }
  ]
}