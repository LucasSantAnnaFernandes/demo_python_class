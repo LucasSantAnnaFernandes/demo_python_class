{
  "nbformat": 4,
  "nbformat_minor": 0,
  "metadata": {
    "colab": {
      "provenance": [],
      "authorship_tag": "ABX9TyNnx/xy7Dp9My7uSe6poWbz",
      "include_colab_link": true
    },
    "kernelspec": {
      "name": "python3",
      "display_name": "Python 3"
    },
    "language_info": {
      "name": "python"
    }
  },
  "cells": [
    {
      "cell_type": "markdown",
      "metadata": {
        "id": "view-in-github",
        "colab_type": "text"
      },
      "source": [
        "<a href=\"https://colab.research.google.com/github/LucasSantAnnaFernandes/demo_python_class/blob/main/Functions.ipynb\" target=\"_parent\"><img src=\"https://colab.research.google.com/assets/colab-badge.svg\" alt=\"Open In Colab\"/></a>"
      ]
    },
    {
      "cell_type": "markdown",
      "source": [
        "Come up with a function that divides the first input by the second input:"
      ],
      "metadata": {
        "id": "raYS3bYa0OaK"
      }
    },
    {
      "cell_type": "code",
      "source": [
        "a = int(input('Give me a number: '))\n",
        "b = int(input('Give another number: '))\n",
        "\n",
        "\n",
        "def div(a,b):\n",
        "  return(a/b)\n",
        "\n",
        "print(div(a,b))"
      ],
      "metadata": {
        "id": "iB1eZlUj0Plm",
        "colab": {
          "base_uri": "https://localhost:8080/"
        },
        "outputId": "965244bb-3b0f-48c2-8d31-abc9471eb06e"
      },
      "execution_count": 5,
      "outputs": [
        {
          "output_type": "stream",
          "name": "stdout",
          "text": [
            "Give me a number: 10\n",
            "Give another number: 2\n",
            "5.0\n"
          ]
        }
      ]
    },
    {
      "cell_type": "markdown",
      "source": [
        "\n",
        "Write a function code to find total count of word little in the given string: \"Mary had a little lamb Little lamb, little lamb Mary had a little lamb.Its fleece was white as snow And everywhere that Mary went Mary went, Mary went Everywhere that Mary went The lamb was sure to go\"**\n",
        "\n"
      ],
      "metadata": {
        "id": "WccWrHLe0thZ"
      }
    },
    {
      "cell_type": "code",
      "source": [
        "def count_word_little(text):\n",
        "    # Convert the text to lowercase to ensure case-insensitive matching\n",
        "    text = text.lower()\n",
        "\n",
        "    # Split the text into words\n",
        "    words = text.split()\n",
        "\n",
        "    # Count the occurrences of the word \"little\"\n",
        "    count = words.count(\"little\")\n",
        "\n",
        "    return count\n",
        "\n",
        "# The phrase\n",
        "text = \"\"\"Mary had a little lamb Little lamb, little lamb Mary had a little lamb.\n",
        "Its fleece was white as snow And everywhere that Mary went Mary went, Mary went\n",
        "Everywhere that Mary went The lamb was sure to go\"\"\"\n",
        "\n",
        "# Call the function and print the result\n",
        "result = count_word_little(text)\n",
        "print(f\"The word 'little' appears {result} times in the text.\")"
      ],
      "metadata": {
        "colab": {
          "base_uri": "https://localhost:8080/"
        },
        "id": "dwghaNkg5pu3",
        "outputId": "9eee70a2-34d0-4c54-aaca-fcb91ab6824f"
      },
      "execution_count": 4,
      "outputs": [
        {
          "output_type": "stream",
          "name": "stdout",
          "text": [
            "The word 'little' appears 4 times in the text.\n"
          ]
        }
      ]
    },
    {
      "cell_type": "markdown",
      "source": [],
      "metadata": {
        "id": "LIn3ZvBX78Bi"
      }
    }
  ]
}