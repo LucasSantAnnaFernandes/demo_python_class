{
  "nbformat": 4,
  "nbformat_minor": 0,
  "metadata": {
    "colab": {
      "provenance": [],
      "authorship_tag": "ABX9TyOtYN/NLjZ47jjIWdfIscBK",
      "include_colab_link": true
    },
    "kernelspec": {
      "name": "python3",
      "display_name": "Python 3"
    },
    "language_info": {
      "name": "python"
    }
  },
  "cells": [
    {
      "cell_type": "markdown",
      "metadata": {
        "id": "view-in-github",
        "colab_type": "text"
      },
      "source": [
        "<a href=\"https://colab.research.google.com/github/LucasSantAnnaFernandes/demo_python_class/blob/main/Loops_%26_Conditions_py.ipynb\" target=\"_parent\"><img src=\"https://colab.research.google.com/assets/colab-badge.svg\" alt=\"Open In Colab\"/></a>"
      ]
    },
    {
      "cell_type": "markdown",
      "source": [
        "## **Conditions Exercises**##"
      ],
      "metadata": {
        "id": "lr5oLWmWzAeu"
      }
    },
    {
      "cell_type": "markdown",
      "source": [
        "1. There are 2 sisters, Annie and Jane, born in 1996 and 1999 respectively. They want to know who was born in a leap year. Write an if-else statement to determine who was born in a leap year."
      ],
      "metadata": {
        "id": "ON5Qk1V1wvsB"
      }
    },
    {
      "cell_type": "code",
      "execution_count": 10,
      "metadata": {
        "colab": {
          "base_uri": "https://localhost:8080/"
        },
        "id": "KSsS1qyKwY1-",
        "outputId": "5448aea1-8322-4d56-eee9-fcbd6498014e"
      },
      "outputs": [
        {
          "output_type": "stream",
          "name": "stdout",
          "text": [
            "Annie was born in a leap year!\n"
          ]
        }
      ],
      "source": [
        "# leap year is that which divided by 4 gives zero remainder.\n",
        "\n",
        "annie = 1996\n",
        "jane = 1999\n",
        "\n",
        "if jane % 4 == 0:\n",
        "    print(\"Jane was born in a leap year!\")\n",
        "elif annie % 4 == 0:\n",
        "    print(\"Annie was born in a leap year!\")\n",
        "else:\n",
        "    print(\"None of them were born in a leap year.\")"
      ]
    },
    {
      "cell_type": "markdown",
      "source": [
        "2. In a school canteen, children under the age of 9 are only given milk porridge for breakfast. Children from 10 to 14 are given a sandwich, and children from 15 to 17 are given a burger. The canteen master asks the age of the student and gives them breakfast accordingly. Sam's age is 10. Use if-else statement to determine what the canteen master will offer to him.\n"
      ],
      "metadata": {
        "id": "bPiswRkFw5ud"
      }
    },
    {
      "cell_type": "code",
      "source": [
        "# sam <= 9 = milk\n",
        "# 10<= sam <= 14 = sandwich\n",
        "# 15<= sam <= 17 burguer\n",
        "\n",
        "sam = 10\n",
        "\n",
        "if sam <= 9:\n",
        "    print(' Sam will receive a milk.')\n",
        "elif 10<=sam<=14:\n",
        "    print('Sam will receive a sandwich.')\n",
        "elif 15<=sam<= 17:\n",
        "    print('Sam will receive a hamburguer.')"
      ],
      "metadata": {
        "colab": {
          "base_uri": "https://localhost:8080/"
        },
        "id": "oclXOnsvw8Xp",
        "outputId": "25c53435-52d7-4f12-befa-fa69799a8e46"
      },
      "execution_count": 4,
      "outputs": [
        {
          "output_type": "stream",
          "name": "stdout",
          "text": [
            "Sam will receive a hamburguer.\n"
          ]
        }
      ]
    },
    {
      "cell_type": "markdown",
      "source": [
        "# **Loops Exercises**"
      ],
      "metadata": {
        "id": "2Yql1z28zNHm"
      }
    },
    {
      "cell_type": "markdown",
      "source": [
        "1. Write a for loop the prints out all the element between -5 and 5 using the range function. In this case, I will include -5 and 5 in the code, so the range will be to -5 to 6."
      ],
      "metadata": {
        "id": "wb8NzKBSzWtR"
      }
    },
    {
      "cell_type": "code",
      "source": [
        "for c in range(-5,6):\n",
        "  print(c)"
      ],
      "metadata": {
        "id": "RBTegIg6zeoJ"
      },
      "execution_count": null,
      "outputs": []
    },
    {
      "cell_type": "markdown",
      "source": [
        "2. Print the elements of the following list: Genres=[ 'rock', 'R&B', 'Soundtrack', 'R&B', 'soul', 'pop'] Make sure you follow Python conventions."
      ],
      "metadata": {
        "id": "MkjcAGyZ1mHK"
      }
    },
    {
      "cell_type": "code",
      "source": [
        "Genres=[ 'rock', 'R&B', 'Soundtrack', 'R&B', 'soul', 'pop']\n",
        "\n",
        "for c in Genres:\n",
        "  print(c)"
      ],
      "metadata": {
        "id": "GhsyN9KK1qSt"
      },
      "execution_count": null,
      "outputs": []
    },
    {
      "cell_type": "markdown",
      "source": [
        "3. Write a for loop that prints out the following list: squares=['red', 'yellow', 'green', 'purple', 'blue']"
      ],
      "metadata": {
        "id": "OCVMqE3m3sYl"
      }
    },
    {
      "cell_type": "code",
      "source": [
        "squares=['red', 'yellow', 'green', 'purple', 'blue']\n",
        "for c in squares:\n",
        "  print(c)"
      ],
      "metadata": {
        "id": "qYwkDRMG3vWI"
      },
      "execution_count": null,
      "outputs": []
    }
  ]
}